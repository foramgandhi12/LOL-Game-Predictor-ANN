{
 "cells": [
  {
   "cell_type": "code",
   "execution_count": 2,
   "id": "d4953b4f-9a37-42bb-8a83-52596d40e981",
   "metadata": {},
   "outputs": [],
   "source": [
    "import sqlite3\n",
    "import pandas as pd\n",
    "import numpy as np\n",
    "import tensorflow as tf"
   ]
  },
  {
   "cell_type": "code",
   "execution_count": 2,
   "id": "29443aee-d344-4c46-9ed9-2144f790ff15",
   "metadata": {},
   "outputs": [
    {
     "data": {
      "text/plain": [
       "'2.7.0'"
      ]
     },
     "execution_count": 2,
     "metadata": {},
     "output_type": "execute_result"
    }
   ],
   "source": [
    "tf.__version__"
   ]
  },
  {
   "cell_type": "markdown",
   "id": "f199eafb-228f-447f-aa30-2282000799bf",
   "metadata": {},
   "source": [
    "# Connect to our DB"
   ]
  },
  {
   "cell_type": "code",
   "execution_count": 5,
   "id": "1fdc5b52-199a-4199-8489-8d40a00d60a9",
   "metadata": {},
   "outputs": [],
   "source": [
    "con = sqlite3.connect('riot_matches.db')"
   ]
  },
  {
   "cell_type": "code",
   "execution_count": 6,
   "id": "e9f0d899-fcb9-4e13-a99e-9fedb5c73db0",
   "metadata": {},
   "outputs": [],
   "source": [
    "df_matches =  pd.read_sql_query(\"SELECT * FROM match\", con)\n",
    "con.close()"
   ]
  },
  {
   "cell_type": "code",
   "execution_count": 7,
   "id": "7174a5fa-3602-41bb-b819-e27c7c276b24",
   "metadata": {},
   "outputs": [
    {
     "name": "stdout",
     "output_type": "stream",
     "text": [
      "<class 'pandas.core.frame.DataFrame'>\n",
      "RangeIndex: 13374 entries, 0 to 13373\n",
      "Data columns (total 15 columns):\n",
      " #   Column        Non-Null Count  Dtype \n",
      "---  ------        --------------  ----- \n",
      " 0   id            13374 non-null  int64 \n",
      " 1   game_id       13374 non-null  object\n",
      " 2   blue_dragons  13374 non-null  int64 \n",
      " 3   blue_heralds  13374 non-null  int64 \n",
      " 4   blue_barons   13374 non-null  int64 \n",
      " 5   blue_turrets  13374 non-null  int64 \n",
      " 6   blue_kills    13374 non-null  int64 \n",
      " 7   blue_gold_20  13374 non-null  int64 \n",
      " 8   red_dragons   13374 non-null  int64 \n",
      " 9   red_heralds   13374 non-null  int64 \n",
      " 10  red_barons    13374 non-null  int64 \n",
      " 11  red_turrets   13374 non-null  int64 \n",
      " 12  red_kills     13374 non-null  int64 \n",
      " 13  red_gold_20   13374 non-null  int64 \n",
      " 14  winner        13374 non-null  object\n",
      "dtypes: int64(13), object(2)\n",
      "memory usage: 1.5+ MB\n"
     ]
    }
   ],
   "source": [
    "df_matches.info()"
   ]
  },
  {
   "cell_type": "code",
   "execution_count": 8,
   "id": "2f0fff55-782e-48b1-bb58-2b15b139e9ae",
   "metadata": {},
   "outputs": [
    {
     "data": {
      "text/html": [
       "<div>\n",
       "<style scoped>\n",
       "    .dataframe tbody tr th:only-of-type {\n",
       "        vertical-align: middle;\n",
       "    }\n",
       "\n",
       "    .dataframe tbody tr th {\n",
       "        vertical-align: top;\n",
       "    }\n",
       "\n",
       "    .dataframe thead th {\n",
       "        text-align: right;\n",
       "    }\n",
       "</style>\n",
       "<table border=\"1\" class=\"dataframe\">\n",
       "  <thead>\n",
       "    <tr style=\"text-align: right;\">\n",
       "      <th></th>\n",
       "      <th>id</th>\n",
       "      <th>game_id</th>\n",
       "      <th>blue_dragons</th>\n",
       "      <th>blue_heralds</th>\n",
       "      <th>blue_barons</th>\n",
       "      <th>blue_turrets</th>\n",
       "      <th>blue_kills</th>\n",
       "      <th>blue_gold_20</th>\n",
       "      <th>red_dragons</th>\n",
       "      <th>red_heralds</th>\n",
       "      <th>red_barons</th>\n",
       "      <th>red_turrets</th>\n",
       "      <th>red_kills</th>\n",
       "      <th>red_gold_20</th>\n",
       "      <th>winner</th>\n",
       "    </tr>\n",
       "  </thead>\n",
       "  <tbody>\n",
       "    <tr>\n",
       "      <th>8688</th>\n",
       "      <td>8689</td>\n",
       "      <td>NA1_4184122121</td>\n",
       "      <td>1</td>\n",
       "      <td>0</td>\n",
       "      <td>0</td>\n",
       "      <td>3</td>\n",
       "      <td>12</td>\n",
       "      <td>38236</td>\n",
       "      <td>2</td>\n",
       "      <td>2</td>\n",
       "      <td>0</td>\n",
       "      <td>2</td>\n",
       "      <td>9</td>\n",
       "      <td>35521</td>\n",
       "      <td>Team 1</td>\n",
       "    </tr>\n",
       "    <tr>\n",
       "      <th>9764</th>\n",
       "      <td>9765</td>\n",
       "      <td>NA1_4191475264</td>\n",
       "      <td>0</td>\n",
       "      <td>1</td>\n",
       "      <td>0</td>\n",
       "      <td>1</td>\n",
       "      <td>18</td>\n",
       "      <td>38685</td>\n",
       "      <td>3</td>\n",
       "      <td>1</td>\n",
       "      <td>1</td>\n",
       "      <td>4</td>\n",
       "      <td>32</td>\n",
       "      <td>50196</td>\n",
       "      <td>Team 2</td>\n",
       "    </tr>\n",
       "    <tr>\n",
       "      <th>4633</th>\n",
       "      <td>4634</td>\n",
       "      <td>NA1_4190198714</td>\n",
       "      <td>1</td>\n",
       "      <td>0</td>\n",
       "      <td>0</td>\n",
       "      <td>1</td>\n",
       "      <td>22</td>\n",
       "      <td>39950</td>\n",
       "      <td>2</td>\n",
       "      <td>1</td>\n",
       "      <td>0</td>\n",
       "      <td>5</td>\n",
       "      <td>26</td>\n",
       "      <td>46127</td>\n",
       "      <td>Team 2</td>\n",
       "    </tr>\n",
       "    <tr>\n",
       "      <th>5099</th>\n",
       "      <td>5100</td>\n",
       "      <td>NA1_4190272939</td>\n",
       "      <td>2</td>\n",
       "      <td>2</td>\n",
       "      <td>0</td>\n",
       "      <td>5</td>\n",
       "      <td>30</td>\n",
       "      <td>46561</td>\n",
       "      <td>0</td>\n",
       "      <td>0</td>\n",
       "      <td>0</td>\n",
       "      <td>2</td>\n",
       "      <td>16</td>\n",
       "      <td>38812</td>\n",
       "      <td>Team 1</td>\n",
       "    </tr>\n",
       "    <tr>\n",
       "      <th>100</th>\n",
       "      <td>101</td>\n",
       "      <td>NA1_4184874816</td>\n",
       "      <td>1</td>\n",
       "      <td>1</td>\n",
       "      <td>0</td>\n",
       "      <td>2</td>\n",
       "      <td>7</td>\n",
       "      <td>33913</td>\n",
       "      <td>2</td>\n",
       "      <td>1</td>\n",
       "      <td>0</td>\n",
       "      <td>3</td>\n",
       "      <td>18</td>\n",
       "      <td>41738</td>\n",
       "      <td>Team 2</td>\n",
       "    </tr>\n",
       "  </tbody>\n",
       "</table>\n",
       "</div>"
      ],
      "text/plain": [
       "        id         game_id  blue_dragons  blue_heralds  blue_barons  \\\n",
       "8688  8689  NA1_4184122121             1             0            0   \n",
       "9764  9765  NA1_4191475264             0             1            0   \n",
       "4633  4634  NA1_4190198714             1             0            0   \n",
       "5099  5100  NA1_4190272939             2             2            0   \n",
       "100    101  NA1_4184874816             1             1            0   \n",
       "\n",
       "      blue_turrets  blue_kills  blue_gold_20  red_dragons  red_heralds  \\\n",
       "8688             3          12         38236            2            2   \n",
       "9764             1          18         38685            3            1   \n",
       "4633             1          22         39950            2            1   \n",
       "5099             5          30         46561            0            0   \n",
       "100              2           7         33913            2            1   \n",
       "\n",
       "      red_barons  red_turrets  red_kills  red_gold_20  winner  \n",
       "8688           0            2          9        35521  Team 1  \n",
       "9764           1            4         32        50196  Team 2  \n",
       "4633           0            5         26        46127  Team 2  \n",
       "5099           0            2         16        38812  Team 1  \n",
       "100            0            3         18        41738  Team 2  "
      ]
     },
     "execution_count": 8,
     "metadata": {},
     "output_type": "execute_result"
    }
   ],
   "source": [
    "df_matches.sample(5)"
   ]
  },
  {
   "cell_type": "markdown",
   "id": "1519adaa-8316-43a8-9e19-d33eb17169d9",
   "metadata": {},
   "source": [
    "# Chosen Parameters"
   ]
  },
  {
   "cell_type": "markdown",
   "id": "578bfcf0-6db0-4c8c-b5a7-9d01715483eb",
   "metadata": {},
   "source": [
    "Compared to the gold-only model, this model will utilize more parameters that influence momentum and game state. \n",
    "<br>The chosen parameters are:\n",
    "<br>-Kills \n",
    "<br>-Deaths\n",
    "<br>-Assists\n",
    "<br>-Dragons\n",
    "<br>-Heralds\n",
    "<br>-Gold Difference\n",
    "<br>-Objectives(Turrets/Inhibitors)\n",
    "<br>These parameters would be calculated in each team's perspective, and then used in our neural network as a 1D array"
   ]
  },
  {
   "cell_type": "markdown",
   "id": "cd8a8381-0574-4606-be9d-1038f02d0255",
   "metadata": {},
   "source": [
    "# Clean our database entries"
   ]
  },
  {
   "cell_type": "code",
   "execution_count": 9,
   "id": "065ca85c-0d95-40f0-8e07-07271e90e49f",
   "metadata": {},
   "outputs": [
    {
     "name": "stdout",
     "output_type": "stream",
     "text": [
      "<class 'pandas.core.frame.DataFrame'>\n",
      "Int64Index: 5783 entries, 0 to 13373\n",
      "Data columns (total 15 columns):\n",
      " #   Column        Non-Null Count  Dtype \n",
      "---  ------        --------------  ----- \n",
      " 0   id            5783 non-null   int64 \n",
      " 1   game_id       5783 non-null   object\n",
      " 2   blue_dragons  5783 non-null   int64 \n",
      " 3   blue_heralds  5783 non-null   int64 \n",
      " 4   blue_barons   5783 non-null   int64 \n",
      " 5   blue_turrets  5783 non-null   int64 \n",
      " 6   blue_kills    5783 non-null   int64 \n",
      " 7   blue_gold_20  5783 non-null   int64 \n",
      " 8   red_dragons   5783 non-null   int64 \n",
      " 9   red_heralds   5783 non-null   int64 \n",
      " 10  red_barons    5783 non-null   int64 \n",
      " 11  red_turrets   5783 non-null   int64 \n",
      " 12  red_kills     5783 non-null   int64 \n",
      " 13  red_gold_20   5783 non-null   int64 \n",
      " 14  winner        5783 non-null   object\n",
      "dtypes: int64(13), object(2)\n",
      "memory usage: 722.9+ KB\n"
     ]
    }
   ],
   "source": [
    "df_matches = df_matches.drop_duplicates(subset=['game_id'])\n",
    "df_matches.info()"
   ]
  },
  {
   "cell_type": "code",
   "execution_count": 10,
   "id": "54ce31e0-a54d-4be4-8443-ada27c8fbf13",
   "metadata": {},
   "outputs": [
    {
     "data": {
      "text/html": [
       "<div>\n",
       "<style scoped>\n",
       "    .dataframe tbody tr th:only-of-type {\n",
       "        vertical-align: middle;\n",
       "    }\n",
       "\n",
       "    .dataframe tbody tr th {\n",
       "        vertical-align: top;\n",
       "    }\n",
       "\n",
       "    .dataframe thead th {\n",
       "        text-align: right;\n",
       "    }\n",
       "</style>\n",
       "<table border=\"1\" class=\"dataframe\">\n",
       "  <thead>\n",
       "    <tr style=\"text-align: right;\">\n",
       "      <th></th>\n",
       "      <th>id</th>\n",
       "      <th>game_id</th>\n",
       "      <th>blue_dragons</th>\n",
       "      <th>blue_heralds</th>\n",
       "      <th>blue_barons</th>\n",
       "      <th>blue_turrets</th>\n",
       "      <th>blue_kills</th>\n",
       "      <th>blue_gold_20</th>\n",
       "      <th>red_dragons</th>\n",
       "      <th>red_heralds</th>\n",
       "      <th>red_barons</th>\n",
       "      <th>red_turrets</th>\n",
       "      <th>red_kills</th>\n",
       "      <th>red_gold_20</th>\n",
       "      <th>winner</th>\n",
       "    </tr>\n",
       "  </thead>\n",
       "  <tbody>\n",
       "    <tr>\n",
       "      <th>0</th>\n",
       "      <td>1</td>\n",
       "      <td>NA1_4191213709</td>\n",
       "      <td>1</td>\n",
       "      <td>1</td>\n",
       "      <td>0</td>\n",
       "      <td>4</td>\n",
       "      <td>33</td>\n",
       "      <td>46758</td>\n",
       "      <td>2</td>\n",
       "      <td>0</td>\n",
       "      <td>0</td>\n",
       "      <td>3</td>\n",
       "      <td>27</td>\n",
       "      <td>43584</td>\n",
       "      <td>0</td>\n",
       "    </tr>\n",
       "    <tr>\n",
       "      <th>1</th>\n",
       "      <td>2</td>\n",
       "      <td>NA1_4191210746</td>\n",
       "      <td>2</td>\n",
       "      <td>1</td>\n",
       "      <td>0</td>\n",
       "      <td>5</td>\n",
       "      <td>25</td>\n",
       "      <td>43593</td>\n",
       "      <td>1</td>\n",
       "      <td>1</td>\n",
       "      <td>0</td>\n",
       "      <td>2</td>\n",
       "      <td>8</td>\n",
       "      <td>34308</td>\n",
       "      <td>1</td>\n",
       "    </tr>\n",
       "    <tr>\n",
       "      <th>2</th>\n",
       "      <td>3</td>\n",
       "      <td>NA1_4191135959</td>\n",
       "      <td>3</td>\n",
       "      <td>2</td>\n",
       "      <td>0</td>\n",
       "      <td>12</td>\n",
       "      <td>28</td>\n",
       "      <td>46983</td>\n",
       "      <td>0</td>\n",
       "      <td>0</td>\n",
       "      <td>0</td>\n",
       "      <td>0</td>\n",
       "      <td>12</td>\n",
       "      <td>33526</td>\n",
       "      <td>1</td>\n",
       "    </tr>\n",
       "    <tr>\n",
       "      <th>3</th>\n",
       "      <td>4</td>\n",
       "      <td>NA1_4191130723</td>\n",
       "      <td>0</td>\n",
       "      <td>0</td>\n",
       "      <td>1</td>\n",
       "      <td>1</td>\n",
       "      <td>25</td>\n",
       "      <td>41676</td>\n",
       "      <td>1</td>\n",
       "      <td>1</td>\n",
       "      <td>0</td>\n",
       "      <td>3</td>\n",
       "      <td>22</td>\n",
       "      <td>40890</td>\n",
       "      <td>0</td>\n",
       "    </tr>\n",
       "    <tr>\n",
       "      <th>4</th>\n",
       "      <td>5</td>\n",
       "      <td>NA1_4189716443</td>\n",
       "      <td>1</td>\n",
       "      <td>2</td>\n",
       "      <td>0</td>\n",
       "      <td>8</td>\n",
       "      <td>27</td>\n",
       "      <td>48079</td>\n",
       "      <td>1</td>\n",
       "      <td>0</td>\n",
       "      <td>0</td>\n",
       "      <td>2</td>\n",
       "      <td>14</td>\n",
       "      <td>38229</td>\n",
       "      <td>1</td>\n",
       "    </tr>\n",
       "    <tr>\n",
       "      <th>...</th>\n",
       "      <td>...</td>\n",
       "      <td>...</td>\n",
       "      <td>...</td>\n",
       "      <td>...</td>\n",
       "      <td>...</td>\n",
       "      <td>...</td>\n",
       "      <td>...</td>\n",
       "      <td>...</td>\n",
       "      <td>...</td>\n",
       "      <td>...</td>\n",
       "      <td>...</td>\n",
       "      <td>...</td>\n",
       "      <td>...</td>\n",
       "      <td>...</td>\n",
       "      <td>...</td>\n",
       "    </tr>\n",
       "    <tr>\n",
       "      <th>5778</th>\n",
       "      <td>13370</td>\n",
       "      <td>NA1_4190634273</td>\n",
       "      <td>3</td>\n",
       "      <td>1</td>\n",
       "      <td>1</td>\n",
       "      <td>5</td>\n",
       "      <td>28</td>\n",
       "      <td>45054</td>\n",
       "      <td>0</td>\n",
       "      <td>1</td>\n",
       "      <td>0</td>\n",
       "      <td>1</td>\n",
       "      <td>15</td>\n",
       "      <td>36413</td>\n",
       "      <td>1</td>\n",
       "    </tr>\n",
       "    <tr>\n",
       "      <th>5779</th>\n",
       "      <td>13371</td>\n",
       "      <td>NA1_4190605222</td>\n",
       "      <td>0</td>\n",
       "      <td>2</td>\n",
       "      <td>0</td>\n",
       "      <td>2</td>\n",
       "      <td>17</td>\n",
       "      <td>39224</td>\n",
       "      <td>2</td>\n",
       "      <td>0</td>\n",
       "      <td>0</td>\n",
       "      <td>4</td>\n",
       "      <td>11</td>\n",
       "      <td>38690</td>\n",
       "      <td>0</td>\n",
       "    </tr>\n",
       "    <tr>\n",
       "      <th>5780</th>\n",
       "      <td>13372</td>\n",
       "      <td>NA1_4184950229</td>\n",
       "      <td>0</td>\n",
       "      <td>0</td>\n",
       "      <td>0</td>\n",
       "      <td>2</td>\n",
       "      <td>18</td>\n",
       "      <td>38409</td>\n",
       "      <td>3</td>\n",
       "      <td>2</td>\n",
       "      <td>0</td>\n",
       "      <td>3</td>\n",
       "      <td>15</td>\n",
       "      <td>39227</td>\n",
       "      <td>0</td>\n",
       "    </tr>\n",
       "    <tr>\n",
       "      <th>5781</th>\n",
       "      <td>13373</td>\n",
       "      <td>NA1_4184835767</td>\n",
       "      <td>0</td>\n",
       "      <td>0</td>\n",
       "      <td>0</td>\n",
       "      <td>1</td>\n",
       "      <td>20</td>\n",
       "      <td>40145</td>\n",
       "      <td>3</td>\n",
       "      <td>2</td>\n",
       "      <td>0</td>\n",
       "      <td>3</td>\n",
       "      <td>36</td>\n",
       "      <td>47098</td>\n",
       "      <td>0</td>\n",
       "    </tr>\n",
       "    <tr>\n",
       "      <th>5782</th>\n",
       "      <td>13374</td>\n",
       "      <td>NA1_4184753952</td>\n",
       "      <td>2</td>\n",
       "      <td>1</td>\n",
       "      <td>0</td>\n",
       "      <td>3</td>\n",
       "      <td>16</td>\n",
       "      <td>38414</td>\n",
       "      <td>1</td>\n",
       "      <td>1</td>\n",
       "      <td>0</td>\n",
       "      <td>1</td>\n",
       "      <td>18</td>\n",
       "      <td>37597</td>\n",
       "      <td>0</td>\n",
       "    </tr>\n",
       "  </tbody>\n",
       "</table>\n",
       "<p>5783 rows × 15 columns</p>\n",
       "</div>"
      ],
      "text/plain": [
       "         id         game_id  blue_dragons  blue_heralds  blue_barons  \\\n",
       "0         1  NA1_4191213709             1             1            0   \n",
       "1         2  NA1_4191210746             2             1            0   \n",
       "2         3  NA1_4191135959             3             2            0   \n",
       "3         4  NA1_4191130723             0             0            1   \n",
       "4         5  NA1_4189716443             1             2            0   \n",
       "...     ...             ...           ...           ...          ...   \n",
       "5778  13370  NA1_4190634273             3             1            1   \n",
       "5779  13371  NA1_4190605222             0             2            0   \n",
       "5780  13372  NA1_4184950229             0             0            0   \n",
       "5781  13373  NA1_4184835767             0             0            0   \n",
       "5782  13374  NA1_4184753952             2             1            0   \n",
       "\n",
       "      blue_turrets  blue_kills  blue_gold_20  red_dragons  red_heralds  \\\n",
       "0                4          33         46758            2            0   \n",
       "1                5          25         43593            1            1   \n",
       "2               12          28         46983            0            0   \n",
       "3                1          25         41676            1            1   \n",
       "4                8          27         48079            1            0   \n",
       "...            ...         ...           ...          ...          ...   \n",
       "5778             5          28         45054            0            1   \n",
       "5779             2          17         39224            2            0   \n",
       "5780             2          18         38409            3            2   \n",
       "5781             1          20         40145            3            2   \n",
       "5782             3          16         38414            1            1   \n",
       "\n",
       "      red_barons  red_turrets  red_kills  red_gold_20  winner  \n",
       "0              0            3         27        43584       0  \n",
       "1              0            2          8        34308       1  \n",
       "2              0            0         12        33526       1  \n",
       "3              0            3         22        40890       0  \n",
       "4              0            2         14        38229       1  \n",
       "...          ...          ...        ...          ...     ...  \n",
       "5778           0            1         15        36413       1  \n",
       "5779           0            4         11        38690       0  \n",
       "5780           0            3         15        39227       0  \n",
       "5781           0            3         36        47098       0  \n",
       "5782           0            1         18        37597       0  \n",
       "\n",
       "[5783 rows x 15 columns]"
      ]
     },
     "execution_count": 10,
     "metadata": {},
     "output_type": "execute_result"
    }
   ],
   "source": [
    "df_matches.reset_index(inplace=True, drop=True)\n",
    "df_matches['winner'] = df_matches.apply(lambda row:\n",
    "     1 if row['winner'] == 'Team 1'\n",
    "     else 0,\n",
    "     axis=1\n",
    ")\n",
    "df_matches"
   ]
  },
  {
   "cell_type": "code",
   "execution_count": 11,
   "id": "049bd326-dc32-46b2-b656-72571a69496b",
   "metadata": {},
   "outputs": [
    {
     "data": {
      "text/plain": [
       "(5783, 12)"
      ]
     },
     "execution_count": 11,
     "metadata": {},
     "output_type": "execute_result"
    }
   ],
   "source": [
    "df_features = df_matches.iloc[:, 2:14].values\n",
    "df_features.shape"
   ]
  },
  {
   "cell_type": "code",
   "execution_count": 12,
   "id": "40cdc338-2cde-418a-9748-ed6c943b0cdc",
   "metadata": {},
   "outputs": [
    {
     "data": {
      "text/plain": [
       "array([[0],\n",
       "       [1],\n",
       "       [1],\n",
       "       ...,\n",
       "       [0],\n",
       "       [0],\n",
       "       [0]], dtype=int64)"
      ]
     },
     "execution_count": 12,
     "metadata": {},
     "output_type": "execute_result"
    }
   ],
   "source": [
    "df_label = df_matches.iloc[:, -1:].values\n",
    "df_label"
   ]
  },
  {
   "cell_type": "markdown",
   "id": "e78e3b73-ce07-4ad8-a7cb-eacaad6ccb13",
   "metadata": {},
   "source": [
    "### Split Data to training/testing features and label"
   ]
  },
  {
   "cell_type": "code",
   "execution_count": 13,
   "id": "c19da4fe-1f6a-4475-a852-c32fe7e11a71",
   "metadata": {},
   "outputs": [],
   "source": [
    "from sklearn.model_selection import train_test_split\n",
    "x_train, x_test, y_train, y_test = train_test_split(df_features, df_label, test_size=0.2, random_state=0)"
   ]
  },
  {
   "cell_type": "code",
   "execution_count": 14,
   "id": "5a8b766b-82de-4130-a8d8-f8587465c341",
   "metadata": {},
   "outputs": [
    {
     "name": "stdout",
     "output_type": "stream",
     "text": [
      "[    3     1     0     4    11 38727     0     1     0     3    11 36581] [1]\n"
     ]
    }
   ],
   "source": [
    "print(x_train[0], y_train[0])"
   ]
  },
  {
   "cell_type": "markdown",
   "id": "720d8b99-6c7e-480d-ae77-972dee342376",
   "metadata": {},
   "source": [
    "### Apply Standardization to data (helps the model with assigning weights and bias)"
   ]
  },
  {
   "cell_type": "code",
   "execution_count": 15,
   "id": "06f7e4d5-5494-4c5d-9975-efb07fb97c89",
   "metadata": {},
   "outputs": [],
   "source": [
    "from sklearn.preprocessing import StandardScaler\n",
    "sc = StandardScaler()\n",
    "x_train = sc.fit_transform(x_train)\n",
    "x_test = sc.fit_transform(x_test)"
   ]
  },
  {
   "cell_type": "code",
   "execution_count": 16,
   "id": "cb2be5b6-e413-4b72-95d3-bac152de7fdb",
   "metadata": {},
   "outputs": [
    {
     "data": {
      "text/plain": [
       "array([ 1.82661646,  0.09737731, -0.26427777,  0.50996733, -1.06670722,\n",
       "       -0.23249149, -1.47301635,  0.08439657, -0.27851056,  0.04976615,\n",
       "       -1.09563746, -0.82078816])"
      ]
     },
     "execution_count": 16,
     "metadata": {},
     "output_type": "execute_result"
    }
   ],
   "source": [
    "x_train[0]"
   ]
  },
  {
   "cell_type": "code",
   "execution_count": 17,
   "id": "4a12c7b3-babb-4d0b-945a-42558b6a7459",
   "metadata": {},
   "outputs": [
    {
     "data": {
      "text/plain": [
       "(12,)"
      ]
     },
     "execution_count": 17,
     "metadata": {},
     "output_type": "execute_result"
    }
   ],
   "source": [
    "(x_test[0].shape)"
   ]
  },
  {
   "cell_type": "markdown",
   "id": "b718ccf1-872f-469f-ade7-8870761cd6f2",
   "metadata": {},
   "source": [
    "# Create our sequential model"
   ]
  },
  {
   "cell_type": "code",
   "execution_count": 16,
   "id": "4baf7c0c-e025-4a5e-aa1d-5ec811909115",
   "metadata": {
    "scrolled": true,
    "tags": []
   },
   "outputs": [
    {
     "name": "stdout",
     "output_type": "stream",
     "text": [
      "Epoch 1/100\n",
      "145/145 [==============================] - 1s 3ms/step - loss: 0.6056 - accuracy: 0.6725\n",
      "Epoch 2/100\n",
      "145/145 [==============================] - 0s 3ms/step - loss: 0.4758 - accuracy: 0.7726\n",
      "Epoch 3/100\n",
      "145/145 [==============================] - 0s 3ms/step - loss: 0.4317 - accuracy: 0.7953\n",
      "Epoch 4/100\n",
      "145/145 [==============================] - 0s 3ms/step - loss: 0.4122 - accuracy: 0.8096\n",
      "Epoch 5/100\n",
      "145/145 [==============================] - 0s 3ms/step - loss: 0.4024 - accuracy: 0.8197\n",
      "Epoch 6/100\n",
      "145/145 [==============================] - 0s 3ms/step - loss: 0.3968 - accuracy: 0.8208\n",
      "Epoch 7/100\n",
      "145/145 [==============================] - 0s 3ms/step - loss: 0.3941 - accuracy: 0.8221\n",
      "Epoch 8/100\n",
      "145/145 [==============================] - 0s 3ms/step - loss: 0.3917 - accuracy: 0.8245\n",
      "Epoch 9/100\n",
      "145/145 [==============================] - 0s 3ms/step - loss: 0.3905 - accuracy: 0.8247\n",
      "Epoch 10/100\n",
      "145/145 [==============================] - 0s 3ms/step - loss: 0.3894 - accuracy: 0.8251\n",
      "Epoch 11/100\n",
      "145/145 [==============================] - 0s 3ms/step - loss: 0.3886 - accuracy: 0.8258\n",
      "Epoch 12/100\n",
      "145/145 [==============================] - 0s 3ms/step - loss: 0.3878 - accuracy: 0.8253\n",
      "Epoch 13/100\n",
      "145/145 [==============================] - 0s 3ms/step - loss: 0.3871 - accuracy: 0.8256\n",
      "Epoch 14/100\n",
      "145/145 [==============================] - 0s 3ms/step - loss: 0.3864 - accuracy: 0.8262\n",
      "Epoch 15/100\n",
      "145/145 [==============================] - 0s 3ms/step - loss: 0.3859 - accuracy: 0.8266\n",
      "Epoch 16/100\n",
      "145/145 [==============================] - 1s 3ms/step - loss: 0.3851 - accuracy: 0.8268\n",
      "Epoch 17/100\n",
      "145/145 [==============================] - 0s 3ms/step - loss: 0.3847 - accuracy: 0.8262\n",
      "Epoch 18/100\n",
      "145/145 [==============================] - 0s 3ms/step - loss: 0.3842 - accuracy: 0.8268\n",
      "Epoch 19/100\n",
      "145/145 [==============================] - 0s 3ms/step - loss: 0.3833 - accuracy: 0.8279\n",
      "Epoch 20/100\n",
      "145/145 [==============================] - 0s 3ms/step - loss: 0.3834 - accuracy: 0.8275\n",
      "Epoch 21/100\n",
      "145/145 [==============================] - 0s 3ms/step - loss: 0.3828 - accuracy: 0.8279\n",
      "Epoch 22/100\n",
      "145/145 [==============================] - 0s 3ms/step - loss: 0.3827 - accuracy: 0.8275\n",
      "Epoch 23/100\n",
      "145/145 [==============================] - 0s 3ms/step - loss: 0.3825 - accuracy: 0.8279\n",
      "Epoch 24/100\n",
      "145/145 [==============================] - 0s 3ms/step - loss: 0.3817 - accuracy: 0.8281\n",
      "Epoch 25/100\n",
      "145/145 [==============================] - 0s 3ms/step - loss: 0.3816 - accuracy: 0.8284\n",
      "Epoch 26/100\n",
      "145/145 [==============================] - 0s 3ms/step - loss: 0.3816 - accuracy: 0.8284\n",
      "Epoch 27/100\n",
      "145/145 [==============================] - 0s 3ms/step - loss: 0.3809 - accuracy: 0.8292\n",
      "Epoch 28/100\n",
      "145/145 [==============================] - 0s 3ms/step - loss: 0.3808 - accuracy: 0.8279\n",
      "Epoch 29/100\n",
      "145/145 [==============================] - 0s 3ms/step - loss: 0.3804 - accuracy: 0.8299\n",
      "Epoch 30/100\n",
      "145/145 [==============================] - 0s 3ms/step - loss: 0.3802 - accuracy: 0.8292\n",
      "Epoch 31/100\n",
      "145/145 [==============================] - 0s 3ms/step - loss: 0.3801 - accuracy: 0.8284\n",
      "Epoch 32/100\n",
      "145/145 [==============================] - 0s 3ms/step - loss: 0.3798 - accuracy: 0.8292\n",
      "Epoch 33/100\n",
      "145/145 [==============================] - 0s 3ms/step - loss: 0.3795 - accuracy: 0.8288\n",
      "Epoch 34/100\n",
      "145/145 [==============================] - 0s 3ms/step - loss: 0.3793 - accuracy: 0.8290\n",
      "Epoch 35/100\n",
      "145/145 [==============================] - 0s 3ms/step - loss: 0.3795 - accuracy: 0.8284\n",
      "Epoch 36/100\n",
      "145/145 [==============================] - 0s 3ms/step - loss: 0.3788 - accuracy: 0.8292\n",
      "Epoch 37/100\n",
      "145/145 [==============================] - 0s 3ms/step - loss: 0.3789 - accuracy: 0.8273\n",
      "Epoch 38/100\n",
      "145/145 [==============================] - 0s 3ms/step - loss: 0.3787 - accuracy: 0.8284\n",
      "Epoch 39/100\n",
      "145/145 [==============================] - 0s 3ms/step - loss: 0.3784 - accuracy: 0.8284\n",
      "Epoch 40/100\n",
      "145/145 [==============================] - 0s 3ms/step - loss: 0.3781 - accuracy: 0.8290\n",
      "Epoch 41/100\n",
      "145/145 [==============================] - 0s 3ms/step - loss: 0.3779 - accuracy: 0.8294\n",
      "Epoch 42/100\n",
      "145/145 [==============================] - 0s 3ms/step - loss: 0.3781 - accuracy: 0.8294\n",
      "Epoch 43/100\n",
      "145/145 [==============================] - 0s 3ms/step - loss: 0.3776 - accuracy: 0.8284\n",
      "Epoch 44/100\n",
      "145/145 [==============================] - 0s 3ms/step - loss: 0.3776 - accuracy: 0.8290\n",
      "Epoch 45/100\n",
      "145/145 [==============================] - 0s 3ms/step - loss: 0.3773 - accuracy: 0.8301\n",
      "Epoch 46/100\n",
      "145/145 [==============================] - 0s 3ms/step - loss: 0.3771 - accuracy: 0.8292\n",
      "Epoch 47/100\n",
      "145/145 [==============================] - 0s 3ms/step - loss: 0.3773 - accuracy: 0.8305\n",
      "Epoch 48/100\n",
      "145/145 [==============================] - 0s 3ms/step - loss: 0.3765 - accuracy: 0.8297\n",
      "Epoch 49/100\n",
      "145/145 [==============================] - 0s 3ms/step - loss: 0.3769 - accuracy: 0.8297\n",
      "Epoch 50/100\n",
      "145/145 [==============================] - 0s 3ms/step - loss: 0.3767 - accuracy: 0.8299\n",
      "Epoch 51/100\n",
      "145/145 [==============================] - 0s 3ms/step - loss: 0.3762 - accuracy: 0.8301\n",
      "Epoch 52/100\n",
      "145/145 [==============================] - 0s 3ms/step - loss: 0.3763 - accuracy: 0.8307\n",
      "Epoch 53/100\n",
      "145/145 [==============================] - 0s 3ms/step - loss: 0.3763 - accuracy: 0.8316\n",
      "Epoch 54/100\n",
      "145/145 [==============================] - 0s 3ms/step - loss: 0.3759 - accuracy: 0.8286\n",
      "Epoch 55/100\n",
      "145/145 [==============================] - 0s 3ms/step - loss: 0.3759 - accuracy: 0.8329\n",
      "Epoch 56/100\n",
      "145/145 [==============================] - 0s 3ms/step - loss: 0.3756 - accuracy: 0.8303\n",
      "Epoch 57/100\n",
      "145/145 [==============================] - 0s 3ms/step - loss: 0.3753 - accuracy: 0.8314\n",
      "Epoch 58/100\n",
      "145/145 [==============================] - 0s 3ms/step - loss: 0.3757 - accuracy: 0.8307\n",
      "Epoch 59/100\n",
      "145/145 [==============================] - 0s 3ms/step - loss: 0.3752 - accuracy: 0.8312\n",
      "Epoch 60/100\n",
      "145/145 [==============================] - 0s 3ms/step - loss: 0.3755 - accuracy: 0.8325\n",
      "Epoch 61/100\n",
      "145/145 [==============================] - 0s 3ms/step - loss: 0.3753 - accuracy: 0.8297\n",
      "Epoch 62/100\n",
      "145/145 [==============================] - 0s 3ms/step - loss: 0.3748 - accuracy: 0.8323\n",
      "Epoch 63/100\n",
      "145/145 [==============================] - 0s 3ms/step - loss: 0.3747 - accuracy: 0.8307\n",
      "Epoch 64/100\n",
      "145/145 [==============================] - 0s 3ms/step - loss: 0.3746 - accuracy: 0.8327\n",
      "Epoch 65/100\n",
      "145/145 [==============================] - 0s 3ms/step - loss: 0.3745 - accuracy: 0.8310\n",
      "Epoch 66/100\n",
      "145/145 [==============================] - 0s 3ms/step - loss: 0.3742 - accuracy: 0.8318\n",
      "Epoch 67/100\n",
      "145/145 [==============================] - 0s 3ms/step - loss: 0.3742 - accuracy: 0.8331\n",
      "Epoch 68/100\n",
      "145/145 [==============================] - 0s 3ms/step - loss: 0.3737 - accuracy: 0.8320\n",
      "Epoch 69/100\n",
      "145/145 [==============================] - 0s 3ms/step - loss: 0.3742 - accuracy: 0.8314\n",
      "Epoch 70/100\n",
      "145/145 [==============================] - 0s 3ms/step - loss: 0.3738 - accuracy: 0.8335\n",
      "Epoch 71/100\n",
      "145/145 [==============================] - 0s 3ms/step - loss: 0.3737 - accuracy: 0.8318\n",
      "Epoch 72/100\n",
      "145/145 [==============================] - 0s 3ms/step - loss: 0.3735 - accuracy: 0.8320\n",
      "Epoch 73/100\n",
      "145/145 [==============================] - 0s 3ms/step - loss: 0.3736 - accuracy: 0.8340\n",
      "Epoch 74/100\n",
      "145/145 [==============================] - 0s 3ms/step - loss: 0.3734 - accuracy: 0.8333\n",
      "Epoch 75/100\n",
      "145/145 [==============================] - 0s 3ms/step - loss: 0.3736 - accuracy: 0.8329\n",
      "Epoch 76/100\n",
      "145/145 [==============================] - 0s 3ms/step - loss: 0.3730 - accuracy: 0.8327\n",
      "Epoch 77/100\n",
      "145/145 [==============================] - 0s 3ms/step - loss: 0.3731 - accuracy: 0.8335\n",
      "Epoch 78/100\n",
      "145/145 [==============================] - 0s 3ms/step - loss: 0.3733 - accuracy: 0.8348\n",
      "Epoch 79/100\n",
      "145/145 [==============================] - 0s 3ms/step - loss: 0.3729 - accuracy: 0.8351\n",
      "Epoch 80/100\n",
      "145/145 [==============================] - 0s 3ms/step - loss: 0.3729 - accuracy: 0.8338\n",
      "Epoch 81/100\n",
      "145/145 [==============================] - 0s 3ms/step - loss: 0.3727 - accuracy: 0.8340\n",
      "Epoch 82/100\n",
      "145/145 [==============================] - 0s 3ms/step - loss: 0.3726 - accuracy: 0.8344\n",
      "Epoch 83/100\n",
      "145/145 [==============================] - 0s 3ms/step - loss: 0.3724 - accuracy: 0.8359\n",
      "Epoch 84/100\n",
      "145/145 [==============================] - 0s 3ms/step - loss: 0.3725 - accuracy: 0.8353\n",
      "Epoch 85/100\n",
      "145/145 [==============================] - 0s 3ms/step - loss: 0.3724 - accuracy: 0.8340\n",
      "Epoch 86/100\n",
      "145/145 [==============================] - 0s 3ms/step - loss: 0.3728 - accuracy: 0.8333\n",
      "Epoch 87/100\n",
      "145/145 [==============================] - 0s 3ms/step - loss: 0.3722 - accuracy: 0.8346\n",
      "Epoch 88/100\n",
      "145/145 [==============================] - 0s 3ms/step - loss: 0.3719 - accuracy: 0.8353\n",
      "Epoch 89/100\n",
      "145/145 [==============================] - 0s 3ms/step - loss: 0.3725 - accuracy: 0.8331\n",
      "Epoch 90/100\n",
      "145/145 [==============================] - 0s 3ms/step - loss: 0.3723 - accuracy: 0.8357\n",
      "Epoch 91/100\n",
      "145/145 [==============================] - 0s 3ms/step - loss: 0.3718 - accuracy: 0.8338\n",
      "Epoch 92/100\n",
      "145/145 [==============================] - 0s 3ms/step - loss: 0.3719 - accuracy: 0.8353\n",
      "Epoch 93/100\n",
      "145/145 [==============================] - 0s 3ms/step - loss: 0.3716 - accuracy: 0.8344\n",
      "Epoch 94/100\n",
      "145/145 [==============================] - 0s 3ms/step - loss: 0.3720 - accuracy: 0.8348\n",
      "Epoch 95/100\n",
      "145/145 [==============================] - 0s 3ms/step - loss: 0.3718 - accuracy: 0.8368\n",
      "Epoch 96/100\n",
      "145/145 [==============================] - 0s 3ms/step - loss: 0.3719 - accuracy: 0.8351\n",
      "Epoch 97/100\n",
      "145/145 [==============================] - 0s 3ms/step - loss: 0.3716 - accuracy: 0.8344\n",
      "Epoch 98/100\n",
      "145/145 [==============================] - 0s 3ms/step - loss: 0.3714 - accuracy: 0.8355\n",
      "Epoch 99/100\n",
      "145/145 [==============================] - 0s 3ms/step - loss: 0.3716 - accuracy: 0.8346\n",
      "Epoch 100/100\n",
      "145/145 [==============================] - 0s 3ms/step - loss: 0.3717 - accuracy: 0.8357\n"
     ]
    },
    {
     "data": {
      "text/plain": [
       "<keras.callbacks.History at 0x1e93aed8e48>"
      ]
     },
     "execution_count": 16,
     "metadata": {},
     "output_type": "execute_result"
    }
   ],
   "source": [
    "nn = tf.keras.models.Sequential()\n",
    "nn.add(tf.keras.layers.Dense(units=8, activation=\"relu\"))\n",
    "nn.add(tf.keras.layers.Dense(units=4, activation=\"relu\"))\n",
    "# nn.add(tf.keras.layers.Dense(units=2, activation=\"relu\"))\n",
    "nn.add(tf.keras.layers.Dense(units=1, activation=\"sigmoid\"))\n",
    "nn.compile(optimizer=\"adam\", loss=\"binary_crossentropy\", metrics=[\"accuracy\"])\n",
    "nn.fit(x_train, y_train, batch_size=32, epochs=100)"
   ]
  },
  {
   "cell_type": "code",
   "execution_count": 17,
   "id": "0cfc5e0b-69fc-4ecc-a982-71b70606913b",
   "metadata": {},
   "outputs": [
    {
     "name": "stdout",
     "output_type": "stream",
     "text": [
      "Model: \"sequential\"\n",
      "_________________________________________________________________\n",
      " Layer (type)                Output Shape              Param #   \n",
      "=================================================================\n",
      " dense (Dense)               (None, 8)                 104       \n",
      "                                                                 \n",
      " dense_1 (Dense)             (None, 4)                 36        \n",
      "                                                                 \n",
      " dense_2 (Dense)             (None, 1)                 5         \n",
      "                                                                 \n",
      "=================================================================\n",
      "Total params: 145\n",
      "Trainable params: 145\n",
      "Non-trainable params: 0\n",
      "_________________________________________________________________\n"
     ]
    }
   ],
   "source": [
    "nn.summary()"
   ]
  },
  {
   "cell_type": "code",
   "execution_count": 18,
   "id": "12b9272c-faea-4c21-8503-b944a4d820b2",
   "metadata": {},
   "outputs": [
    {
     "name": "stdout",
     "output_type": "stream",
     "text": [
      "10/10 [==============================] - 0s 2ms/step - loss: 0.3975 - accuracy: 0.8142\n",
      "test loss, test acc: [0.39748573303222656, 0.8141745924949646]\n"
     ]
    }
   ],
   "source": [
    "results = nn.evaluate(x_test, y_test, batch_size=128)\n",
    "print(\"test loss, test acc:\", results)"
   ]
  },
  {
   "cell_type": "code",
   "execution_count": 19,
   "id": "165e99f7-0ce5-420a-84e6-3214d0cab824",
   "metadata": {},
   "outputs": [],
   "source": [
    "# nn.save(\"model_w_paramsfeb1\")"
   ]
  },
  {
   "cell_type": "code",
   "execution_count": 3,
   "id": "8ed2f44a-bd3f-4a93-ad69-df292b375465",
   "metadata": {},
   "outputs": [],
   "source": [
    "model = tf.keras.models.load_model('model_w_paramsfeb1')"
   ]
  },
  {
   "cell_type": "code",
   "execution_count": 18,
   "id": "3a9873bf-4ecb-4006-98c2-23b143935da1",
   "metadata": {},
   "outputs": [
    {
     "name": "stdout",
     "output_type": "stream",
     "text": [
      "[[0.12662897]] [0]\n"
     ]
    }
   ],
   "source": [
    "print(model.predict(np.array([x_test[0]])), y_test[0])"
   ]
  },
  {
   "cell_type": "code",
   "execution_count": 19,
   "id": "50c45ed8-6df5-4ca3-ae69-f8205d9ab04a",
   "metadata": {},
   "outputs": [
    {
     "name": "stdout",
     "output_type": "stream",
     "text": [
      "[[0.89648604]] [1]\n"
     ]
    }
   ],
   "source": [
    "print(model.predict(np.array([x_test[1]])), y_test[1])"
   ]
  },
  {
   "cell_type": "code",
   "execution_count": null,
   "id": "09958c51-2363-448a-879e-5790ed3dc336",
   "metadata": {},
   "outputs": [],
   "source": []
  }
 ],
 "metadata": {
  "kernelspec": {
   "display_name": "py37gpu",
   "language": "python",
   "name": "myenv"
  },
  "language_info": {
   "codemirror_mode": {
    "name": "ipython",
    "version": 3
   },
   "file_extension": ".py",
   "mimetype": "text/x-python",
   "name": "python",
   "nbconvert_exporter": "python",
   "pygments_lexer": "ipython3",
   "version": "3.7.11"
  }
 },
 "nbformat": 4,
 "nbformat_minor": 5
}
