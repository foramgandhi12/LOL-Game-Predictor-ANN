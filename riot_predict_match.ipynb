{
 "cells": [
  {
   "cell_type": "code",
   "execution_count": 74,
   "id": "a2ffe013-3920-4f84-8797-407aec2caadc",
   "metadata": {},
   "outputs": [],
   "source": [
    "from riotwatcher import LolWatcher, ApiError\n",
    "import pandas as pd\n",
    "import numpy as np \n",
    "import tensorflow as tf\n",
    "import sqlite3\n",
    "from pickle import load\n",
    "from time import sleep\n",
    "from sklearn.preprocessing import StandardScaler\n",
    "from apikey import API_KEY"
   ]
  },
  {
   "cell_type": "code",
   "execution_count": 75,
   "id": "a3404afe-032f-49ca-97cd-a1a3db7ea6cd",
   "metadata": {},
   "outputs": [],
   "source": [
    "watcher = LolWatcher(API_KEY)\n",
    "region = 'NA1'\n",
    "sc = load(open('scaler.pkl', 'rb'))"
   ]
  },
  {
   "cell_type": "code",
   "execution_count": 76,
   "id": "8e3e85da-1317-487a-9bf2-6d1afac8de92",
   "metadata": {},
   "outputs": [],
   "source": [
    "model = tf.keras.models.load_model('model_w_params')"
   ]
  },
  {
   "cell_type": "code",
   "execution_count": 77,
   "id": "be5ba8f7-de96-4704-a579-c735fa059a27",
   "metadata": {},
   "outputs": [],
   "source": [
    "def get_summoner_uid(name):\n",
    "    summoner = watcher.summoner.by_name(region, name)\n",
    "    return summoner[\"puuid\"]"
   ]
  },
  {
   "cell_type": "code",
   "execution_count": 78,
   "id": "f6c5b03b-0d94-419d-9a1a-366a7dba16a4",
   "metadata": {},
   "outputs": [],
   "source": [
    "ign = \"Linom\"\n",
    "# puid = get_summoner_uid(ign)\n",
    "puid = \"pXozCpOspMGJvjixjONFRy6dBG9bj5rt4KeJOJCr1wAGprTEDaNOX3OTFgG6o8RK1QpFjihDLiIVxg\""
   ]
  },
  {
   "cell_type": "code",
   "execution_count": 120,
   "id": "12b92db8-4524-44ac-8aba-5f8a4663aa7b",
   "metadata": {},
   "outputs": [],
   "source": [
    "def get_data(player_uid): \n",
    "    \n",
    "    match_list = watcher.match.matchlist_by_puuid('americas', player_uid, type=\"ranked\", count=1)\n",
    "\n",
    "\n",
    "    game_timeline = watcher.match.timeline_by_match('americas', match_list[0])\n",
    "    game_details = watcher.match.by_id('americas', match_list[0])\n",
    "    if game_details[\"info\"][\"participants\"][0][\"win\"] == True:\n",
    "        winner = \"Team 1\"\n",
    "    else:\n",
    "        winner = \"Team 2\"\n",
    "\n",
    "\n",
    "    if len(game_timeline['info']['frames']) < 22:\n",
    "        # print(\"less than 20\")\n",
    "        return(\"Game not long enough to predict\")\n",
    "    # print(\"more than 20\")\n",
    "    frames =  game_timeline['info']['frames'][:22]\n",
    "\n",
    "    # get gold diff \n",
    "    gold = {}\n",
    "    for k in range(len(frames)):\n",
    "        gold['{}'.format(k)] = {}\n",
    "    for value in gold.values():\n",
    "        for l in range(1, 11):\n",
    "            value['{}'.format(l)] = 0\n",
    "\n",
    "    for m in range(len(frames)):\n",
    "        for n in range(1, 11):\n",
    "            gold['{}'.format(m)]['{}'.format(n)] = game_timeline['info']['frames'][m]['participantFrames']['{}'.format(n)]['totalGold']\n",
    "\n",
    "    blue_gold = []\n",
    "    red_gold = []\n",
    "\n",
    "    for key in gold.keys():\n",
    "        team1 = 0\n",
    "        team2 = 0\n",
    "        for o in range(1, 6):\n",
    "            team1 += gold[key]['{}'.format(o)]\n",
    "            team2 += gold[key]['{}'.format(o + 5)]\n",
    "        blue_gold.append(team1)\n",
    "        red_gold.append(team2)\n",
    "\n",
    "    # gold_diff = (np.array(team_1_gold) - np.array(team_2_gold)).tolist()\n",
    "\n",
    "\n",
    "    blue_dragons = 0\n",
    "    blue_heralds = 0\n",
    "    red_dragons = 0\n",
    "    red_heralds = 0\n",
    "    blue_barons = 0\n",
    "    red_barons = 0\n",
    "\n",
    "    for frame in frames:\n",
    "        for event in frame[\"events\"]:\n",
    "            if \"monsterType\" in event.keys():\n",
    "                if event[\"monsterType\"] == \"DRAGON\":\n",
    "                    if event[\"killerTeamId\"] == 100:\n",
    "                        blue_dragons += 1\n",
    "                    else:\n",
    "                        red_dragons += 1\n",
    "                if event[\"monsterType\"] == \"RIFTHERALD\":\n",
    "                    if event[\"killerTeamId\"] == 100:\n",
    "                        blue_heralds += 1\n",
    "                    else:\n",
    "                        red_heralds += 1\n",
    "                if event[\"monsterType\"] == \"BARON_NASHOR\":\n",
    "                    if event[\"killerTeamId\"] == 100:\n",
    "                        blue_barons += 1\n",
    "                    else:\n",
    "                        red_barons += 1\n",
    "\n",
    "    # print(match, blue_gold[-1], red_gold[-1], blue_dragons, blue_heralds, blue_barons, red_dragons, red_heralds, red_barons)\n",
    "\n",
    "    blue_k = 0 # blue side (bottom)\n",
    "    red_k = 0 # red side (top)\n",
    "\n",
    "    for frame in frames:\n",
    "        for event in frame[\"events\"]:\n",
    "            if \"victimId\" in event.keys():\n",
    "                if event[\"type\"] == \"CHAMPION_KILL\":\n",
    "                    if event[\"killerId\"] == 0:\n",
    "                        continue\n",
    "                    if 1 <= event[\"killerId\"] <= 5:\n",
    "                        blue_k += 1\n",
    "                    else:\n",
    "                        red_k += 1\n",
    "\n",
    "        blue_obj = 0\n",
    "        red_obj = 0\n",
    "        for frame in frames:\n",
    "            for event in frame[\"events\"]:\n",
    "                if \"buildingType\" in event.keys():\n",
    "                    if event[\"teamId\"] == 100:\n",
    "                        red_obj += 1\n",
    "                    else:\n",
    "                        blue_obj += 1\n",
    "                        \n",
    "\n",
    "    tensor = [blue_dragons, blue_heralds, blue_barons, blue_obj, blue_k, blue_gold[-1], red_dragons, red_heralds, red_barons, red_obj, red_k, red_gold[-1]]\n",
    "    \n",
    "    return tensor,winner"
   ]
  },
  {
   "cell_type": "markdown",
   "id": "896dc28b-b668-4866-8380-5723e870e28b",
   "metadata": {},
   "source": [
    "### Use our pickled scaling weights to predict new raw data"
   ]
  },
  {
   "cell_type": "code",
   "execution_count": 121,
   "id": "b8c7a657-05fb-4f54-9d58-e562b11e545b",
   "metadata": {},
   "outputs": [
    {
     "data": {
      "text/plain": [
       "array([[-1.25542406,  0.09737731, -0.26427777, -0.86774857,  1.34946934,\n",
       "         0.02503562,  1.57446738,  0.08439657, -0.27851056,  0.04976615,\n",
       "         0.12134288,  0.12986495]])"
      ]
     },
     "execution_count": 121,
     "metadata": {},
     "output_type": "execute_result"
    }
   ],
   "source": [
    "result = get_data(puid)\n",
    "input_data = result[0]\n",
    "winner = result[1]\n",
    "\n",
    "input_data\n",
    "input_data = sc.transform([input_data])\n",
    "input_data"
   ]
  },
  {
   "cell_type": "markdown",
   "id": "44f0f823-b2a3-4a18-90c5-706b96fd4667",
   "metadata": {},
   "source": [
    "<0.5 = Team 2, else Team 1"
   ]
  },
  {
   "cell_type": "code",
   "execution_count": 122,
   "id": "1b9bffe8-1fe4-442e-9776-eb2eee6f2341",
   "metadata": {},
   "outputs": [
    {
     "data": {
      "text/plain": [
       "array([[0.3206097]], dtype=float32)"
      ]
     },
     "execution_count": 122,
     "metadata": {},
     "output_type": "execute_result"
    }
   ],
   "source": [
    "model.predict(input_data)"
   ]
  },
  {
   "cell_type": "code",
   "execution_count": 123,
   "id": "4cfbf120-085c-4ffd-8e6e-cfbb984ccb51",
   "metadata": {},
   "outputs": [
    {
     "name": "stdout",
     "output_type": "stream",
     "text": [
      "Team 2\n"
     ]
    }
   ],
   "source": [
    "print(winner)"
   ]
  }
 ],
 "metadata": {
  "kernelspec": {
   "display_name": "py37gpu",
   "language": "python",
   "name": "myenv"
  },
  "language_info": {
   "codemirror_mode": {
    "name": "ipython",
    "version": 3
   },
   "file_extension": ".py",
   "mimetype": "text/x-python",
   "name": "python",
   "nbconvert_exporter": "python",
   "pygments_lexer": "ipython3",
   "version": "3.7.11"
  }
 },
 "nbformat": 4,
 "nbformat_minor": 5
}
